{
 "cells": [
  {
   "cell_type": "markdown",
   "metadata": {},
   "source": [
    "# scRNA-seq Imputation"
   ]
  },
  {
   "cell_type": "markdown",
   "metadata": {},
   "source": [
    "Data Availability Statement\n",
    "Tabula Muris data\n",
    "\n",
    "Smart-seq2 https://doi.org/10.6084/m9.figshare.5715040.v1 ( Consortium, The Tabula Muris, 2017a).\n",
    "\n",
    "10X Chromium https://doi.org/10.6084/m9.figshare.5715040.v1 ( Consortium, The Tabula Muris, 2017b).\n",
    "\n",
    "R packages\n",
    "\n",
    "MAGIC: Rmagic (v0.1.0) https://github.com/KrishnaswamyLab/MAGIC\n",
    "\n",
    "DrImpute: DrImpute (v1.0) https://github.com/ikwak2/DrImpute\n",
    "\n",
    "scImpute: scImpute(v0.0.8) https://github.com/Vivianstats/scImpute\n",
    "\n",
    "SAVER: SAVER(v1.0.0) https://github.com/mohuangx/SAVER\n",
    "\n",
    "Knn-smooth: knn_smooth.R (Version 2) https://github.com/yanailab/knn-smoothing\n",
    "\n",
    "Scater: scater(v1.6.3) : https://www.bioconductor.org/packages/release/bioc/html/scater.html\n",
    "\n",
    "Splatter: splatter(v1.2.2) : https://bioconductor.org/packages/release/bioc/html/splatter.html\n",
    "\n",
    "Permute: permute(v0.9-4) : https://cran.r-project.org/web/packages/permute/index.html\n",
    "\n",
    "Python/anaconda packages:\n",
    "\n",
    "Dca : dca(v0.2.2): https://github.com/theislab/dca\n",
    "\n",
    "Custom scripts: https://github.com/tallulandrews/F1000Imputation"
   ]
  },
  {
   "cell_type": "markdown",
   "metadata": {},
   "source": [
    "## Denomising scRNA-seq Data with DCA"
   ]
  },
  {
   "cell_type": "markdown",
   "metadata": {},
   "source": [
    "### 1. Running the dca package on definite endoderm cells (DECs)\n",
    "\n",
    "The single cell expression data of DECs are obtained from the GEO website (https://www.ncbi.nlm.nih.gov/geo/query/acc.cgi?acc=GSE75748). The dataset includes the RNA expression count data of 1018 single cells from snapshot progenitors.\n",
    "\n",
    "The paper for analysis of the dataset: Single-cell RNA-seq reveals novel regulators of human embryonic stem cell differentiation to definitive endoderm. https://pubmed.ncbi.nlm.nih.gov/27534536/"
   ]
  },
  {
   "cell_type": "code",
   "execution_count": 9,
   "metadata": {},
   "outputs": [],
   "source": [
    "# !python -m dca.__main__ data/endoderm/endoderm.csv data/endoderm/"
   ]
  },
  {
   "cell_type": "code",
   "execution_count": 13,
   "metadata": {},
   "outputs": [
    {
     "data": {
      "text/html": [
       "<div>\n",
       "<style scoped>\n",
       "    .dataframe tbody tr th:only-of-type {\n",
       "        vertical-align: middle;\n",
       "    }\n",
       "\n",
       "    .dataframe tbody tr th {\n",
       "        vertical-align: top;\n",
       "    }\n",
       "\n",
       "    .dataframe thead th {\n",
       "        text-align: right;\n",
       "    }\n",
       "</style>\n",
       "<table border=\"1\" class=\"dataframe\">\n",
       "  <thead>\n",
       "    <tr style=\"text-align: right;\">\n",
       "      <th></th>\n",
       "      <th>Unnamed: 0</th>\n",
       "      <th>H1_Exp1.001</th>\n",
       "      <th>H1_Exp1.002</th>\n",
       "      <th>H1_Exp1.003</th>\n",
       "      <th>H1_Exp1.004</th>\n",
       "      <th>H1_Exp1.006</th>\n",
       "      <th>H1_Exp1.007</th>\n",
       "      <th>H1_Exp1.008</th>\n",
       "      <th>H1_Exp1.009</th>\n",
       "      <th>H1_Exp1.010</th>\n",
       "      <th>...</th>\n",
       "      <th>TB_Batch2.135</th>\n",
       "      <th>TB_Batch2.136</th>\n",
       "      <th>TB_Batch2.137</th>\n",
       "      <th>TB_Batch2.138</th>\n",
       "      <th>TB_Batch2.139</th>\n",
       "      <th>TB_Batch2.140</th>\n",
       "      <th>TB_Batch2.141</th>\n",
       "      <th>TB_Batch2.142</th>\n",
       "      <th>TB_Batch2.143</th>\n",
       "      <th>TB_Batch2.144</th>\n",
       "    </tr>\n",
       "  </thead>\n",
       "  <tbody>\n",
       "    <tr>\n",
       "      <th>0</th>\n",
       "      <td>MKL2</td>\n",
       "      <td>10</td>\n",
       "      <td>162</td>\n",
       "      <td>3</td>\n",
       "      <td>42</td>\n",
       "      <td>0</td>\n",
       "      <td>2</td>\n",
       "      <td>18</td>\n",
       "      <td>0</td>\n",
       "      <td>182</td>\n",
       "      <td>...</td>\n",
       "      <td>364</td>\n",
       "      <td>1</td>\n",
       "      <td>21</td>\n",
       "      <td>1127</td>\n",
       "      <td>2119</td>\n",
       "      <td>5</td>\n",
       "      <td>500</td>\n",
       "      <td>18</td>\n",
       "      <td>472</td>\n",
       "      <td>350</td>\n",
       "    </tr>\n",
       "    <tr>\n",
       "      <th>1</th>\n",
       "      <td>CD109</td>\n",
       "      <td>6</td>\n",
       "      <td>2</td>\n",
       "      <td>166</td>\n",
       "      <td>9</td>\n",
       "      <td>7</td>\n",
       "      <td>53</td>\n",
       "      <td>4</td>\n",
       "      <td>64</td>\n",
       "      <td>29</td>\n",
       "      <td>...</td>\n",
       "      <td>15</td>\n",
       "      <td>38</td>\n",
       "      <td>38</td>\n",
       "      <td>11</td>\n",
       "      <td>48</td>\n",
       "      <td>23</td>\n",
       "      <td>362</td>\n",
       "      <td>22</td>\n",
       "      <td>36</td>\n",
       "      <td>25</td>\n",
       "    </tr>\n",
       "    <tr>\n",
       "      <th>2</th>\n",
       "      <td>ABTB1</td>\n",
       "      <td>0</td>\n",
       "      <td>28</td>\n",
       "      <td>0</td>\n",
       "      <td>1</td>\n",
       "      <td>0</td>\n",
       "      <td>9</td>\n",
       "      <td>0</td>\n",
       "      <td>0</td>\n",
       "      <td>0</td>\n",
       "      <td>...</td>\n",
       "      <td>0</td>\n",
       "      <td>0</td>\n",
       "      <td>0</td>\n",
       "      <td>0</td>\n",
       "      <td>0</td>\n",
       "      <td>0</td>\n",
       "      <td>0</td>\n",
       "      <td>3</td>\n",
       "      <td>39</td>\n",
       "      <td>0</td>\n",
       "    </tr>\n",
       "    <tr>\n",
       "      <th>3</th>\n",
       "      <td>MAST2</td>\n",
       "      <td>0</td>\n",
       "      <td>133</td>\n",
       "      <td>41</td>\n",
       "      <td>0</td>\n",
       "      <td>0</td>\n",
       "      <td>2</td>\n",
       "      <td>0</td>\n",
       "      <td>0</td>\n",
       "      <td>0</td>\n",
       "      <td>...</td>\n",
       "      <td>175</td>\n",
       "      <td>41</td>\n",
       "      <td>32</td>\n",
       "      <td>3</td>\n",
       "      <td>6</td>\n",
       "      <td>206</td>\n",
       "      <td>43</td>\n",
       "      <td>2</td>\n",
       "      <td>1</td>\n",
       "      <td>99</td>\n",
       "    </tr>\n",
       "    <tr>\n",
       "      <th>4</th>\n",
       "      <td>KAT5</td>\n",
       "      <td>0</td>\n",
       "      <td>7</td>\n",
       "      <td>52</td>\n",
       "      <td>20</td>\n",
       "      <td>0</td>\n",
       "      <td>6</td>\n",
       "      <td>0</td>\n",
       "      <td>0</td>\n",
       "      <td>103</td>\n",
       "      <td>...</td>\n",
       "      <td>0</td>\n",
       "      <td>577</td>\n",
       "      <td>0</td>\n",
       "      <td>3</td>\n",
       "      <td>2</td>\n",
       "      <td>0</td>\n",
       "      <td>56</td>\n",
       "      <td>2</td>\n",
       "      <td>0</td>\n",
       "      <td>0</td>\n",
       "    </tr>\n",
       "  </tbody>\n",
       "</table>\n",
       "<p>5 rows × 1019 columns</p>\n",
       "</div>"
      ],
      "text/plain": [
       "  Unnamed: 0  H1_Exp1.001  H1_Exp1.002  H1_Exp1.003  H1_Exp1.004  H1_Exp1.006  \\\n",
       "0       MKL2           10          162            3           42            0   \n",
       "1      CD109            6            2          166            9            7   \n",
       "2      ABTB1            0           28            0            1            0   \n",
       "3      MAST2            0          133           41            0            0   \n",
       "4       KAT5            0            7           52           20            0   \n",
       "\n",
       "   H1_Exp1.007  H1_Exp1.008  H1_Exp1.009  H1_Exp1.010  ...  TB_Batch2.135  \\\n",
       "0            2           18            0          182  ...            364   \n",
       "1           53            4           64           29  ...             15   \n",
       "2            9            0            0            0  ...              0   \n",
       "3            2            0            0            0  ...            175   \n",
       "4            6            0            0          103  ...              0   \n",
       "\n",
       "   TB_Batch2.136  TB_Batch2.137  TB_Batch2.138  TB_Batch2.139  TB_Batch2.140  \\\n",
       "0              1             21           1127           2119              5   \n",
       "1             38             38             11             48             23   \n",
       "2              0              0              0              0              0   \n",
       "3             41             32              3              6            206   \n",
       "4            577              0              3              2              0   \n",
       "\n",
       "   TB_Batch2.141  TB_Batch2.142  TB_Batch2.143  TB_Batch2.144  \n",
       "0            500             18            472            350  \n",
       "1            362             22             36             25  \n",
       "2              0              3             39              0  \n",
       "3             43              2              1             99  \n",
       "4             56              2              0              0  \n",
       "\n",
       "[5 rows x 1019 columns]"
      ]
     },
     "execution_count": 13,
     "metadata": {},
     "output_type": "execute_result"
    }
   ],
   "source": [
    "import pandas as pd\n",
    "import os\n",
    "cur_dir = os.getcwd()\n",
    "file_path = cur_dir + '/data/endoderm/endoderm.csv'\n",
    "endoderm = pd.read_csv(file_path)\n",
    "endoderm.head()"
   ]
  },
  {
   "cell_type": "markdown",
   "metadata": {},
   "source": [
    "## scDMFK"
   ]
  },
  {
   "cell_type": "code",
   "execution_count": 18,
   "metadata": {},
   "outputs": [
    {
     "name": "stdout",
     "output_type": "stream",
     "text": [
      "LICENSE.txt      \u001b[34mdca-env\u001b[m\u001b[m          \u001b[34mreproducibility\u001b[m\u001b[m  setup.py\n",
      "README.md        demo.ipynb       requirements.txt tutorial.ipynb\n",
      "\u001b[34mdata\u001b[m\u001b[m             \u001b[34mdocs\u001b[m\u001b[m             \u001b[34mscDMFK\u001b[m\u001b[m\n",
      "\u001b[34mdca\u001b[m\u001b[m              pytest.ini       \u001b[34mscripts\u001b[m\u001b[m\n"
     ]
    }
   ],
   "source": [
    "!ls"
   ]
  },
  {
   "cell_type": "code",
   "execution_count": 21,
   "metadata": {},
   "outputs": [
    {
     "name": "stdout",
     "output_type": "stream",
     "text": [
      "Collecting jgraph\n",
      "  Downloading jgraph-0.2.1-py2.py3-none-any.whl (119 kB)\n",
      "\u001b[2K     \u001b[90m━━━━━━━━━━━━━━━━━━━━━━━━━━━━━━━━━━━━━━━\u001b[0m \u001b[32m119.9/119.9 kB\u001b[0m \u001b[31m1.2 MB/s\u001b[0m eta \u001b[36m0:00:00\u001b[0ma \u001b[36m0:00:01\u001b[0m\n",
      "\u001b[?25hRequirement already satisfied: ipython in ./dca-env/lib/python3.8/site-packages (from jgraph) (8.12.3)\n",
      "Requirement already satisfied: appnope in ./dca-env/lib/python3.8/site-packages (from ipython->jgraph) (0.1.4)\n",
      "Requirement already satisfied: pickleshare in ./dca-env/lib/python3.8/site-packages (from ipython->jgraph) (0.7.5)\n",
      "Requirement already satisfied: matplotlib-inline in ./dca-env/lib/python3.8/site-packages (from ipython->jgraph) (0.1.6)\n",
      "Requirement already satisfied: decorator in ./dca-env/lib/python3.8/site-packages (from ipython->jgraph) (5.1.1)\n",
      "Requirement already satisfied: pexpect>4.3 in ./dca-env/lib/python3.8/site-packages (from ipython->jgraph) (4.9.0)\n",
      "Requirement already satisfied: typing-extensions in ./dca-env/lib/python3.8/site-packages (from ipython->jgraph) (3.7.4.3)\n",
      "Requirement already satisfied: backcall in ./dca-env/lib/python3.8/site-packages (from ipython->jgraph) (0.2.0)\n",
      "Requirement already satisfied: stack-data in ./dca-env/lib/python3.8/site-packages (from ipython->jgraph) (0.6.3)\n",
      "Requirement already satisfied: prompt-toolkit!=3.0.37,<3.1.0,>=3.0.30 in ./dca-env/lib/python3.8/site-packages (from ipython->jgraph) (3.0.43)\n",
      "Requirement already satisfied: pygments>=2.4.0 in ./dca-env/lib/python3.8/site-packages (from ipython->jgraph) (2.17.2)\n",
      "Requirement already satisfied: jedi>=0.16 in ./dca-env/lib/python3.8/site-packages (from ipython->jgraph) (0.19.1)\n",
      "Requirement already satisfied: traitlets>=5 in ./dca-env/lib/python3.8/site-packages (from ipython->jgraph) (5.14.2)\n",
      "Requirement already satisfied: parso<0.9.0,>=0.8.3 in ./dca-env/lib/python3.8/site-packages (from jedi>=0.16->ipython->jgraph) (0.8.3)\n",
      "Requirement already satisfied: ptyprocess>=0.5 in ./dca-env/lib/python3.8/site-packages (from pexpect>4.3->ipython->jgraph) (0.7.0)\n",
      "Requirement already satisfied: wcwidth in ./dca-env/lib/python3.8/site-packages (from prompt-toolkit!=3.0.37,<3.1.0,>=3.0.30->ipython->jgraph) (0.2.13)\n",
      "Requirement already satisfied: asttokens>=2.1.0 in ./dca-env/lib/python3.8/site-packages (from stack-data->ipython->jgraph) (2.4.1)\n",
      "Requirement already satisfied: executing>=1.2.0 in ./dca-env/lib/python3.8/site-packages (from stack-data->ipython->jgraph) (2.0.1)\n",
      "Requirement already satisfied: pure-eval in ./dca-env/lib/python3.8/site-packages (from stack-data->ipython->jgraph) (0.2.2)\n",
      "Requirement already satisfied: six>=1.12.0 in ./dca-env/lib/python3.8/site-packages (from asttokens>=2.1.0->stack-data->ipython->jgraph) (1.15.0)\n",
      "Installing collected packages: jgraph\n",
      "Successfully installed jgraph-0.2.1\n",
      "\n",
      "\u001b[1m[\u001b[0m\u001b[34;49mnotice\u001b[0m\u001b[1;39;49m]\u001b[0m\u001b[39;49m A new release of pip is available: \u001b[0m\u001b[31;49m23.0.1\u001b[0m\u001b[39;49m -> \u001b[0m\u001b[32;49m24.0\u001b[0m\n",
      "\u001b[1m[\u001b[0m\u001b[34;49mnotice\u001b[0m\u001b[1;39;49m]\u001b[0m\u001b[39;49m To update, run: \u001b[0m\u001b[32;49mpip install --upgrade pip\u001b[0m\n",
      "Note: you may need to restart the kernel to use updated packages.\n"
     ]
    }
   ],
   "source": [
    "%pip install jgraph"
   ]
  },
  {
   "cell_type": "code",
   "execution_count": 35,
   "metadata": {},
   "outputs": [
    {
     "name": "stdout",
     "output_type": "stream",
     "text": [
      "WARNING:tensorflow:From /Users/yufeideng/Documents/GitHub/dca/dca-env/lib/python3.8/site-packages/tensorflow/python/compat/v2_compat.py:96: disable_resource_variables (from tensorflow.python.ops.variable_scope) is deprecated and will be removed in a future version.\n",
      "Instructions for updating:\n",
      "non-resource variables are not supported in the long term\n",
      "this line should show\n",
      "begin the pretraining\n",
      "2024-04-06 11:29:51.306863: I tensorflow/core/platform/cpu_feature_guard.cc:142] This TensorFlow binary is optimized with oneAPI Deep Neural Network Library (oneDNN) to use the following CPU instructions in performance-critical operations:  AVX2 FMA\n",
      "To enable them in other operations, rebuild TensorFlow with the appropriate compiler flags.\n",
      "2024-04-06 11:29:51.337957: I tensorflow/compiler/mlir/mlir_graph_optimization_pass.cc:196] None of the MLIR optimization passes are enabled (registered 0 passes)\n",
      "/Users/yufeideng/Documents/GitHub/dca/dca-env/lib/python3.8/site-packages/sklearn/cluster/_kmeans.py:1416: FutureWarning: The default value of `n_init` will change from 10 to 'auto' in 1.4. Set the value of `n_init` explicitly to suppress the warning\n",
      "  super()._check_params_vs_input(X, default_n_init=10)\n",
      "begin the funetraining\n",
      "Traceback (most recent call last):\n",
      "  File \"scDMFK/run.py\", line 56, in <module>\n",
      "    accuracy, ARI, NMI = scClustering.funetrain(X, count_X, Y, size_factor, args.batch_size, args.funetrain_epoch, args.update_epoch, args.error)\n",
      "  File \"/Users/yufeideng/Documents/GitHub/dca/scDMFK/network.py\", line 293, in funetrain\n",
      "    self.accuracy = np.around(cluster_acc(Y, self.Y_pred), 4)\n",
      "  File \"/Users/yufeideng/Documents/GitHub/dca/scDMFK/network.py\", line 25, in cluster_acc\n",
      "    return sum([w[i, j] for i, j in ind]) * 1.0 / y_pred.size\n",
      "  File \"/Users/yufeideng/Documents/GitHub/dca/scDMFK/network.py\", line 25, in <listcomp>\n",
      "    return sum([w[i, j] for i, j in ind]) * 1.0 / y_pred.size\n",
      "ValueError: too many values to unpack (expected 2)\n"
     ]
    }
   ],
   "source": [
    "!python scDMFK/run.py --dataname \"Young\""
   ]
  },
  {
   "cell_type": "code",
   "execution_count": 41,
   "metadata": {},
   "outputs": [
    {
     "data": {
      "text/plain": [
       "0.6666666666666666"
      ]
     },
     "execution_count": 41,
     "metadata": {},
     "output_type": "execute_result"
    }
   ],
   "source": [
    "import numpy as np\n",
    "from scipy.optimize import linear_sum_assignment as linear_assignment\n",
    "\n",
    "def cluster_acc(y_true, y_pred):\n",
    "    y_true = y_true.astype(np.int64)\n",
    "    assert y_pred.size == y_true.size\n",
    "    D = max(y_pred.max(), y_true.max()) + 1\n",
    "    w = np.zeros((D, D), dtype=np.int64)\n",
    "    for i in range(y_pred.size):\n",
    "        w[y_pred[i], y_true[i]] += 1\n",
    "    # from sklearn.utils.linear_assignment_ import linear_assignment\n",
    "    row_ind, col_ind = linear_assignment(w.max() - w)\n",
    "    return sum([w[i, j] for i, j in zip(row_ind, col_ind)]) * 1.0 / y_pred.size\n",
    "\n",
    "y_true = np.array([3, 1, 3, 3, 4, 1, 4, 4, 6])\n",
    "y_pred = np.array([4, 0, 2, 3, 4, 1, 4, 4, 6])\n",
    "cluster_acc(y_true, y_pred)\n",
    "\n",
    "# D = max(y_pred.max(), y_true.max()) + 1\n",
    "# w = np.zeros((D, D), dtype=np.int64)\n",
    "\n",
    "# for i in range(y_pred.size):\n",
    "#     w[y_pred[i], y_true[i]] += 1\n",
    "\n",
    "# row_ind, col_ind = linear_assignment(w.max() - w)\n",
    "# [w[i, j] for i, j in zip(row_ind, col_ind)]\n",
    "# sum([w[i, j] for i, j in zip(row_ind, col_ind)]) * 1.0 / y_pred.size"
   ]
  },
  {
   "cell_type": "markdown",
   "metadata": {},
   "source": []
  },
  {
   "cell_type": "code",
   "execution_count": 40,
   "metadata": {},
   "outputs": [
    {
     "data": {
      "text/plain": [
       "array([6, 6, 6, ..., 0, 0, 0])"
      ]
     },
     "execution_count": 40,
     "metadata": {},
     "output_type": "execute_result"
    }
   ],
   "source": [
    "import scDMFK.utils as utils\n",
    "import numpy as np\n",
    "import h5py\n",
    "import scipy as sp\n",
    "import pandas as pd\n",
    "\n",
    "def read_clean(data):\n",
    "    assert isinstance(data, np.ndarray)\n",
    "    if data.dtype.type is np.bytes_:\n",
    "        data = utils.decode(data)\n",
    "    if data.size == 1:\n",
    "        data = data.flat[0]\n",
    "    return data\n",
    "\n",
    "def dict_from_group(group):\n",
    "    assert isinstance(group, h5py.Group)\n",
    "    d = utils.dotdict()\n",
    "    for key in group:\n",
    "        if isinstance(group[key], h5py.Group):\n",
    "            value = dict_from_group(group[key])\n",
    "        else:\n",
    "            value = read_clean(group[key][...])\n",
    "        d[key] = value\n",
    "    return d\n",
    "\n",
    "def read_data(filename, sparsify=False, skip_exprs=False):\n",
    "    with h5py.File(filename, \"r\") as f:\n",
    "        obs = pd.DataFrame(dict_from_group(f[\"obs\"]), index=utils.decode(f[\"obs_names\"][...]))\n",
    "        var = pd.DataFrame(dict_from_group(f[\"var\"]), index=utils.decode(f[\"var_names\"][...]))\n",
    "        uns = dict_from_group(f[\"uns\"])\n",
    "        if not skip_exprs:\n",
    "            exprs_handle = f[\"exprs\"]\n",
    "            if isinstance(exprs_handle, h5py.Group):\n",
    "                mat = sp.sparse.csr_matrix((exprs_handle[\"data\"][...], exprs_handle[\"indices\"][...],\n",
    "                                               exprs_handle[\"indptr\"][...]), shape=exprs_handle[\"shape\"][...])\n",
    "            else:\n",
    "                mat = exprs_handle[...].astype(np.float32)\n",
    "                if sparsify:\n",
    "                    mat = sp.sparse.csr_matrix(mat)\n",
    "        else:\n",
    "            mat = sp.sparse.csr_matrix((obs.shape[0], var.shape[0]))\n",
    "    return mat, obs, var, uns\n",
    "\n",
    "def prepro(filename):\n",
    "    data_path = \"data/\" + filename + \"/data.h5\"\n",
    "    mat, obs, var, uns = read_data(data_path, sparsify=False, skip_exprs=False)\n",
    "    if isinstance(mat, np.ndarray):\n",
    "        X = np.array(mat)\n",
    "    else:\n",
    "        X = np.array(mat.toarray())\n",
    "    cell_name = np.array(obs[\"cell_type1\"])\n",
    "    cell_type, cell_label = np.unique(cell_name, return_inverse=True)\n",
    "    return X, cell_label\n",
    "\n",
    "X, Y = prepro(\"Young\")\n",
    "Y"
   ]
  },
  {
   "cell_type": "markdown",
   "metadata": {},
   "source": [
    "###"
   ]
  }
 ],
 "metadata": {
  "kernelspec": {
   "display_name": "dca-env",
   "language": "python",
   "name": "python3"
  },
  "language_info": {
   "codemirror_mode": {
    "name": "ipython",
    "version": 3
   },
   "file_extension": ".py",
   "mimetype": "text/x-python",
   "name": "python",
   "nbconvert_exporter": "python",
   "pygments_lexer": "ipython3",
   "version": "3.8.18"
  }
 },
 "nbformat": 4,
 "nbformat_minor": 2
}
