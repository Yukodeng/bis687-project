{
 "cells": [
  {
   "cell_type": "markdown",
   "id": "23bcb948",
   "metadata": {},
   "source": [
    "## Import packages"
   ]
  },
  {
   "cell_type": "code",
   "execution_count": 1,
   "id": "1788430a",
   "metadata": {},
   "outputs": [],
   "source": [
    "import pandas as pd\n",
    "import numpy as np\n",
    "from sklearn.experimental import enable_iterative_imputer\n",
    "from sklearn.impute import IterativeImputer"
   ]
  },
  {
   "cell_type": "markdown",
   "id": "18f70860",
   "metadata": {},
   "source": [
    "## Data preprocessing"
   ]
  },
  {
   "cell_type": "code",
   "execution_count": 2,
   "id": "87f1563b",
   "metadata": {},
   "outputs": [
    {
     "data": {
      "text/plain": [
       "False"
      ]
     },
     "execution_count": 2,
     "metadata": {},
     "output_type": "execute_result"
    }
   ],
   "source": [
    "df = pd.read_csv('endoderm.csv', index_col= 0)\n",
    "df.isnull().values.any()\n"
   ]
  },
  {
   "cell_type": "code",
   "execution_count": 3,
   "id": "488a6533",
   "metadata": {},
   "outputs": [],
   "source": [
    "df = df.T"
   ]
  },
  {
   "cell_type": "code",
   "execution_count": 4,
   "id": "91bd154f",
   "metadata": {},
   "outputs": [
    {
     "data": {
      "text/html": [
       "<div>\n",
       "<style scoped>\n",
       "    .dataframe tbody tr th:only-of-type {\n",
       "        vertical-align: middle;\n",
       "    }\n",
       "\n",
       "    .dataframe tbody tr th {\n",
       "        vertical-align: top;\n",
       "    }\n",
       "\n",
       "    .dataframe thead th {\n",
       "        text-align: right;\n",
       "    }\n",
       "</style>\n",
       "<table border=\"1\" class=\"dataframe\">\n",
       "  <thead>\n",
       "    <tr style=\"text-align: right;\">\n",
       "      <th></th>\n",
       "      <th>MKL2</th>\n",
       "      <th>CD109</th>\n",
       "      <th>ABTB1</th>\n",
       "      <th>MAST2</th>\n",
       "      <th>KAT5</th>\n",
       "      <th>WWC2</th>\n",
       "      <th>CD163</th>\n",
       "      <th>MYL2</th>\n",
       "      <th>UBE2Z</th>\n",
       "      <th>RGPD4</th>\n",
       "      <th>...</th>\n",
       "      <th>SNRNP48</th>\n",
       "      <th>ARMC3</th>\n",
       "      <th>DUSP28</th>\n",
       "      <th>INO80</th>\n",
       "      <th>NUP205</th>\n",
       "      <th>WDR33</th>\n",
       "      <th>EPSTI1</th>\n",
       "      <th>CLPTM1L</th>\n",
       "      <th>CCDC125</th>\n",
       "      <th>CATSPER3</th>\n",
       "    </tr>\n",
       "  </thead>\n",
       "  <tbody>\n",
       "    <tr>\n",
       "      <th>H1_Exp1.001</th>\n",
       "      <td>10</td>\n",
       "      <td>6</td>\n",
       "      <td>0</td>\n",
       "      <td>0</td>\n",
       "      <td>0</td>\n",
       "      <td>84</td>\n",
       "      <td>0</td>\n",
       "      <td>0</td>\n",
       "      <td>18</td>\n",
       "      <td>0</td>\n",
       "      <td>...</td>\n",
       "      <td>84</td>\n",
       "      <td>0</td>\n",
       "      <td>0</td>\n",
       "      <td>0</td>\n",
       "      <td>239</td>\n",
       "      <td>101</td>\n",
       "      <td>0</td>\n",
       "      <td>22</td>\n",
       "      <td>32</td>\n",
       "      <td>0</td>\n",
       "    </tr>\n",
       "    <tr>\n",
       "      <th>H1_Exp1.002</th>\n",
       "      <td>162</td>\n",
       "      <td>2</td>\n",
       "      <td>28</td>\n",
       "      <td>133</td>\n",
       "      <td>7</td>\n",
       "      <td>5</td>\n",
       "      <td>0</td>\n",
       "      <td>0</td>\n",
       "      <td>146</td>\n",
       "      <td>4</td>\n",
       "      <td>...</td>\n",
       "      <td>40</td>\n",
       "      <td>0</td>\n",
       "      <td>0</td>\n",
       "      <td>187</td>\n",
       "      <td>231</td>\n",
       "      <td>201</td>\n",
       "      <td>0</td>\n",
       "      <td>84</td>\n",
       "      <td>52</td>\n",
       "      <td>0</td>\n",
       "    </tr>\n",
       "    <tr>\n",
       "      <th>H1_Exp1.003</th>\n",
       "      <td>3</td>\n",
       "      <td>166</td>\n",
       "      <td>0</td>\n",
       "      <td>41</td>\n",
       "      <td>52</td>\n",
       "      <td>305</td>\n",
       "      <td>0</td>\n",
       "      <td>0</td>\n",
       "      <td>106</td>\n",
       "      <td>0</td>\n",
       "      <td>...</td>\n",
       "      <td>21</td>\n",
       "      <td>0</td>\n",
       "      <td>0</td>\n",
       "      <td>6</td>\n",
       "      <td>169</td>\n",
       "      <td>23</td>\n",
       "      <td>0</td>\n",
       "      <td>19</td>\n",
       "      <td>110</td>\n",
       "      <td>0</td>\n",
       "    </tr>\n",
       "  </tbody>\n",
       "</table>\n",
       "<p>3 rows × 19097 columns</p>\n",
       "</div>"
      ],
      "text/plain": [
       "             MKL2  CD109  ABTB1  MAST2  KAT5  WWC2  CD163  MYL2  UBE2Z  RGPD4  \\\n",
       "H1_Exp1.001    10      6      0      0     0    84      0     0     18      0   \n",
       "H1_Exp1.002   162      2     28    133     7     5      0     0    146      4   \n",
       "H1_Exp1.003     3    166      0     41    52   305      0     0    106      0   \n",
       "\n",
       "             ...  SNRNP48  ARMC3  DUSP28  INO80  NUP205  WDR33  EPSTI1  \\\n",
       "H1_Exp1.001  ...       84      0       0      0     239    101       0   \n",
       "H1_Exp1.002  ...       40      0       0    187     231    201       0   \n",
       "H1_Exp1.003  ...       21      0       0      6     169     23       0   \n",
       "\n",
       "             CLPTM1L  CCDC125  CATSPER3  \n",
       "H1_Exp1.001       22       32         0  \n",
       "H1_Exp1.002       84       52         0  \n",
       "H1_Exp1.003       19      110         0  \n",
       "\n",
       "[3 rows x 19097 columns]"
      ]
     },
     "execution_count": 4,
     "metadata": {},
     "output_type": "execute_result"
    }
   ],
   "source": [
    "df.head(3)"
   ]
  },
  {
   "cell_type": "code",
   "execution_count": 5,
   "id": "26ec010f",
   "metadata": {},
   "outputs": [],
   "source": [
    "# only select subset\n",
    "df = df.iloc[:50, :50]"
   ]
  },
  {
   "cell_type": "markdown",
   "id": "4009d7c1",
   "metadata": {},
   "source": [
    "## Baseline - Naive iterative imputation\n",
    "In this part, we will treat all 0 entry as missing value and impute them."
   ]
  },
  {
   "cell_type": "code",
   "execution_count": 6,
   "id": "429959d1",
   "metadata": {},
   "outputs": [],
   "source": [
    "dt = df.values"
   ]
  },
  {
   "cell_type": "code",
   "execution_count": 7,
   "id": "448cb1b4",
   "metadata": {},
   "outputs": [],
   "source": [
    "# train test split\n",
    "from sklearn.model_selection import train_test_split\n",
    "X_train, X_test = train_test_split(dt, test_size=0.2, random_state=42)"
   ]
  },
  {
   "cell_type": "code",
   "execution_count": 9,
   "id": "3858254b",
   "metadata": {},
   "outputs": [
    {
     "name": "stdout",
     "output_type": "stream",
     "text": [
      "CPU times: user 4 µs, sys: 4 µs, total: 8 µs\n",
      "Wall time: 13.8 µs\n"
     ]
    }
   ],
   "source": [
    "# initialization strategy: mean\n",
    "%time\n",
    "imp_mean = IterativeImputer(random_state=0, missing_values = 0)\n",
    "imp_mean.fit(X_train)\n",
    "transformed = imp_mean.transform(X_test)"
   ]
  },
  {
   "cell_type": "code",
   "execution_count": 15,
   "id": "8e267ab6",
   "metadata": {},
   "outputs": [
    {
     "name": "stdout",
     "output_type": "stream",
     "text": [
      "[162 151   0 122   0 363   0   0   1   2   0   0  13  15 104   0   0   0\n",
      " 522   0   0 295   4  13   0  30   0   5  50  49  10   0   1   0  17  68\n",
      "   0  21  26   0 533  30   0  84   0  46   0   8   0   0]\n"
     ]
    }
   ],
   "source": [
    "print(X_test[0,:])"
   ]
  },
  {
   "cell_type": "code",
   "execution_count": 16,
   "id": "cf527b54",
   "metadata": {},
   "outputs": [
    {
     "name": "stdout",
     "output_type": "stream",
     "text": [
      "[162.         151.          17.98807782 122.          36.90442513\n",
      " 363.           1.           2.           1.          13.\n",
      "  15.         104.           7.56128611 522.          65.\n",
      " 295.           4.          13.          30.           5.\n",
      "  50.          49.          10.         -10.45094131   1.\n",
      "  17.          68.          21.          26.         101.28038846\n",
      " 533.          30.          84.           8.93023603  46.\n",
      "   8.          -2.34086417  43.85516116]\n"
     ]
    }
   ],
   "source": [
    "print(transformed[0,:])"
   ]
  },
  {
   "cell_type": "code",
   "execution_count": 17,
   "id": "138cfbda",
   "metadata": {},
   "outputs": [],
   "source": [
    "## we can observe negative value, transfer negative value to 0\n",
    "transformed[transformed < 0] = 0"
   ]
  },
  {
   "cell_type": "code",
   "execution_count": 18,
   "id": "802d080f",
   "metadata": {},
   "outputs": [
    {
     "name": "stdout",
     "output_type": "stream",
     "text": [
      "[162.         151.          17.98807782 122.          36.90442513\n",
      " 363.           1.           2.           1.          13.\n",
      "  15.         104.           7.56128611 522.          65.\n",
      " 295.           4.          13.          30.           5.\n",
      "  50.          49.          10.           0.           1.\n",
      "  17.          68.          21.          26.         101.28038846\n",
      " 533.          30.          84.           8.93023603  46.\n",
      "   8.           0.          43.85516116]\n"
     ]
    }
   ],
   "source": [
    "print(transformed[0,:])"
   ]
  },
  {
   "cell_type": "code",
   "execution_count": 19,
   "id": "32b66dea",
   "metadata": {},
   "outputs": [
    {
     "data": {
      "text/plain": [
       "362"
      ]
     },
     "execution_count": 19,
     "metadata": {},
     "output_type": "execute_result"
    }
   ],
   "source": [
    "np.count_nonzero(transformed)"
   ]
  },
  {
   "cell_type": "code",
   "execution_count": 20,
   "id": "17a1f35e",
   "metadata": {},
   "outputs": [
    {
     "data": {
      "text/plain": [
       "259"
      ]
     },
     "execution_count": 20,
     "metadata": {},
     "output_type": "execute_result"
    }
   ],
   "source": [
    "np.count_nonzero(X_test)"
   ]
  },
  {
   "cell_type": "code",
   "execution_count": null,
   "id": "23c776b8",
   "metadata": {},
   "outputs": [],
   "source": []
  }
 ],
 "metadata": {
  "kernelspec": {
   "display_name": "py36env",
   "language": "python",
   "name": "py36env"
  },
  "language_info": {
   "codemirror_mode": {
    "name": "ipython",
    "version": 3
   },
   "file_extension": ".py",
   "mimetype": "text/x-python",
   "name": "python",
   "nbconvert_exporter": "python",
   "pygments_lexer": "ipython3",
   "version": "3.9.13"
  }
 },
 "nbformat": 4,
 "nbformat_minor": 5
}
