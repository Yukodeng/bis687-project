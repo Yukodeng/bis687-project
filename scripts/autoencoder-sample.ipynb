{
 "cells": [
  {
   "cell_type": "code",
   "execution_count": null,
   "metadata": {},
   "outputs": [],
   "source": [
    "from keras.layers import Dense, Input\n",
    "from keras.models import Model\n",
    "from dca.layers import ColwiseMultLayer\n",
    "\n",
    "\n",
    "def build(adata, hid_size):\n",
    "    input_size = adata.n_vars\n",
    "    output_size = input_size\n",
    "    hid_size = hid_size\n",
    "    extra_models = {}\n",
    "\n",
    "    input_layer = Input(shape=(input_size,), name='count')\n",
    "    sf_layer = Input(shape=(1,), name='size_factors')\n",
    "\n",
    "    decoder_output = Dense(hid_size, activation=None, name='center')(input_layer)\n",
    "    mean = Dense(output_size, name='mean')(decoder_output)\n",
    "    output = ColwiseMultLayer([mean, sf_layer])\n",
    "\n",
    "    extra_models['mean_norm'] = Model(inputs=input_layer, outputs=mean)\n",
    "    extra_models['decoded'] = Model(inputs=input_layer, outputs=decoder_output)\n",
    "    \n",
    "    model = Model(inputs=[input_layer, sf_layer], outputs=output)\n",
    " \n",
    "    encoder = Model(inputs=model.input,\n",
    "                    outputs=model.get_layer('center').output)\n",
    "\n",
    "\n",
    "    print('dca: Calculating low dimensional representations...')\n",
    "\n",
    "    adata.obsm['X_dca'] = encoder.predict({'count': adata.X,\n",
    "                                           'size_factors': adata.obs.size_factors})        \n",
    "    print('dca: Calculating reconstructions...')\n",
    "\n",
    "    adata.X = model.predict({'count': adata.X,\n",
    "                             'size_factors': adata.obs.size_factors})\n",
    "    \n",
    "    return adata\n",
    "\n",
    "adata = build(adata)"
   ]
  }
 ],
 "metadata": {
  "language_info": {
   "name": "python"
  }
 },
 "nbformat": 4,
 "nbformat_minor": 2
}
