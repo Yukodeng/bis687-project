{
 "cells": [
  {
   "cell_type": "code",
   "execution_count": 2,
   "metadata": {},
   "outputs": [
    {
     "name": "stdout",
     "output_type": "stream",
     "text": [
      "Current Working Directory:  /Users/yufeideng/Documents/GitHub/bis687-project\n"
     ]
    },
    {
     "name": "stderr",
     "output_type": "stream",
     "text": [
      "/Users/yufeideng/Documents/GitHub/bis687-project/sc-env/lib/python3.8/site-packages/tqdm/auto.py:21: TqdmWarning: IProgress not found. Please update jupyter and ipywidgets. See https://ipywidgets.readthedocs.io/en/stable/user_install.html\n",
      "  from .autonotebook import tqdm as notebook_tqdm\n",
      "Using TensorFlow backend.\n"
     ]
    }
   ],
   "source": [
    "# general tools\n",
    "import os\n",
    "import random\n",
    "import numpy as np\n",
    "from tqdm import tqdm\n",
    "\n",
    "os.chdir(\"..\")\n",
    "# check if in the main working directory\n",
    "print(\"Current Working Directory: \", os.getcwd())\n",
    "from scDMFK.preprocess import *\n",
    "from scDMFK.io import *\n"
   ]
  },
  {
   "cell_type": "code",
   "execution_count": 11,
   "metadata": {},
   "outputs": [
    {
     "name": "stdout",
     "output_type": "stream",
     "text": [
      "Processing: endoderm\n",
      "Successfully preprocessed 19097 genes and 1018 cells\n",
      "Selected 500 genes and 1018 cells\n",
      "Selected 1000 genes and 1018 cells\n",
      "Selected 5000 genes and 1018 cells\n",
      "Selected 10000 genes and 1018 cells\n"
     ]
    }
   ],
   "source": [
    "dataname = 'endoderm'\n",
    "\n",
    "print('Processing: %s' % dataname)\n",
    "out = 'data/' + dataname\n",
    "# data_path = dataname + '/data.h5'\n",
    "data_path = dataname + '/endoderm.csv'\n",
    "transpose = True\n",
    "highly_genes = [500, 1000, 5000, 10000]\n",
    "highly_subset = True\n",
    "\n",
    "adata = prepro(data_path, transpose=transpose)\n",
    "\n",
    "for n_genes in highly_genes:\n",
    "    data = adata.copy()\n",
    "    data = normalize(data, highly_genes=n_genes, highly_subset=highly_subset)\n",
    "    df_sub = pd.DataFrame(data.raw.X, index=data.obs_names, columns=data.raw.var_names)[data.var_names]\n",
    "    df_sub.to_csv(os.path.join(out, 'endoderm-%d.csv'%n_genes))\n"
   ]
  },
  {
   "cell_type": "code",
   "execution_count": null,
   "metadata": {},
   "outputs": [],
   "source": [
    "# output endoderm cell labels\n",
    "endoderm = pd.read_csv('data/endoderm/endoderm.csv', index_col=0)\n",
    "pd.DataFrame(\n",
    "    {'label': [label.split(\"_\")[0] for label in endoderm.columns.to_list()]}\n",
    "    ).to_csv('data/endoderm/cell_label.csv', index=False)"
   ]
  }
 ],
 "metadata": {
  "kernelspec": {
   "display_name": "sc-env",
   "language": "python",
   "name": "python3"
  },
  "language_info": {
   "codemirror_mode": {
    "name": "ipython",
    "version": 3
   },
   "file_extension": ".py",
   "mimetype": "text/x-python",
   "name": "python",
   "nbconvert_exporter": "python",
   "pygments_lexer": "ipython3",
   "version": "3.8.18"
  }
 },
 "nbformat": 4,
 "nbformat_minor": 2
}
