{
 "cells": [
  {
   "cell_type": "code",
   "execution_count": 1,
   "metadata": {},
   "outputs": [
    {
     "name": "stderr",
     "output_type": "stream",
     "text": [
      "/Users/yufeideng/Documents/GitHub/bis687-project/sc-env/lib/python3.8/site-packages/tqdm/auto.py:21: TqdmWarning: IProgress not found. Please update jupyter and ipywidgets. See https://ipywidgets.readthedocs.io/en/stable/user_install.html\n",
      "  from .autonotebook import tqdm as notebook_tqdm\n",
      "Using TensorFlow backend.\n"
     ]
    }
   ],
   "source": [
    "from scDMFK.io import get_embedding, draw_umap\n",
    "from sklearn.cluster import KMeans\n",
    "from sklearn.metrics import silhouette_score, adjusted_rand_score, normalized_mutual_info_score\n"
   ]
  },
  {
   "cell_type": "code",
   "execution_count": null,
   "metadata": {},
   "outputs": [],
   "source": [
    "def calculate_cluster_results(data, true_labels, seed):\n",
    "    if not isinstance(data, np.ndarray):\n",
    "        data = np.array(data)\n",
    "    \n",
    "    n_clusters = len(np.unique(true_labels))\n",
    "    np.random.seed(seed)\n",
    "    \n",
    "    # get UMAP 2-D embedding\n",
    "    embedding = get_embedding(data)\n",
    "    draw_umap(embedding, true_labels)\n",
    "    \n",
    "    # K-means for clustering umi embedings\n",
    "    kmeans = KMeans(n_clusters=n_clusters).fit(embedding)\n",
    "    labels = kmeans.labels_\n",
    "\n",
    "    # Calculate metrics\n",
    "    ari = adjusted_rand_score(true_labels, labels)\n",
    "    nmi = normalized_mutual_info_score(true_labels, labels)\n",
    "    sc = silhouette_score(data, labels)\n",
    "\n",
    "    print(f'Adjusted Rand Index: {ari}')\n",
    "    print(f'Normalized Mutual Information: {nmi}')\n",
    "    print(f'Silhouette Coefficient: {sc}')\n",
    "    \n",
    "    return ari, nmi, sc\n"
   ]
  },
  {
   "cell_type": "markdown",
   "metadata": {},
   "source": [
    "## 1. Endoderm Cells"
   ]
  },
  {
   "cell_type": "code",
   "execution_count": null,
   "metadata": {},
   "outputs": [],
   "source": []
  }
 ],
 "metadata": {
  "kernelspec": {
   "display_name": "sc-env",
   "language": "python",
   "name": "python3"
  },
  "language_info": {
   "codemirror_mode": {
    "name": "ipython",
    "version": 3
   },
   "file_extension": ".py",
   "mimetype": "text/x-python",
   "name": "python",
   "nbconvert_exporter": "python",
   "pygments_lexer": "ipython3",
   "version": "3.8.18"
  }
 },
 "nbformat": 4,
 "nbformat_minor": 2
}
