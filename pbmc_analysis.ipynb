{
 "cells": [
  {
   "cell_type": "code",
   "execution_count": 18,
   "metadata": {},
   "outputs": [],
   "source": [
    "import pandas as pd\n",
    "import scanpy as sc\n",
    "# os.chdir(\"\")"
   ]
  },
  {
   "cell_type": "code",
   "execution_count": 14,
   "metadata": {},
   "outputs": [
    {
     "name": "stdout",
     "output_type": "stream",
     "text": [
      "/Users/yufeideng/Documents/GitHub/bis687-project\n"
     ]
    }
   ],
   "source": [
    "%cd /Users/yufeideng/Documents/GitHub/bis687-project"
   ]
  },
  {
   "cell_type": "code",
   "execution_count": 16,
   "metadata": {},
   "outputs": [],
   "source": [
    "# !mkdir data/pbmc3k/\n",
    "# !wget http://cf.10xgenomics.com/samples/cell-exp/1.1.0/pbmc3k/pbmc3k_filtered_gene_bc_matrices.tar.gz -O data/pbmc3k/pbmc3k_filtered_gene_bc_matrices.tar.gz\n",
    "# !cd data/pbmc3k/; tar -xzf pbmc3k_filtered_gene_bc_matrices.tar.gz\n",
    "# !mkdir data/pbmc3k/write"
   ]
  },
  {
   "cell_type": "code",
   "execution_count": 25,
   "metadata": {},
   "outputs": [
    {
     "data": {
      "text/plain": [
       "'/Users/yufeideng/Documents/GitHub/bis687-project/data/pbmc3k'"
      ]
     },
     "execution_count": 25,
     "metadata": {},
     "output_type": "execute_result"
    }
   ],
   "source": [
    "%pwd"
   ]
  },
  {
   "cell_type": "code",
   "execution_count": 23,
   "metadata": {},
   "outputs": [
    {
     "name": "stdout",
     "output_type": "stream",
     "text": [
      "[Errno 2] No such file or directory: 'data/pbmc3k/'\n",
      "/Users/yufeideng/Documents/GitHub/bis687-project/data/pbmc3k\n"
     ]
    }
   ],
   "source": [
    "%cd data/pbmc3k/\n",
    "results_file = \"write/pbmc3k.h5ad\"  # the file that will store the analysis results\n",
    "pbmc = sc.read_10x_mtx(\n",
    "    \"filtered_gene_bc_matrices/hg19/\",  # the directory with the `.mtx` file\n",
    "    var_names=\"gene_ids\",  # use gene symbols for the variable names (variables-axis index)\n",
    "    cache=True,  # write a cache file for faster subsequent reading\n",
    ")"
   ]
  },
  {
   "cell_type": "code",
   "execution_count": 24,
   "metadata": {},
   "outputs": [
    {
     "data": {
      "text/plain": [
       "AnnData object with n_obs × n_vars = 2700 × 32738\n",
       "    var: 'gene_symbols'"
      ]
     },
     "execution_count": 24,
     "metadata": {},
     "output_type": "execute_result"
    }
   ],
   "source": [
    "pbmc"
   ]
  },
  {
   "cell_type": "code",
   "execution_count": null,
   "metadata": {},
   "outputs": [],
   "source": []
  }
 ],
 "metadata": {
  "kernelspec": {
   "display_name": "sc-env",
   "language": "python",
   "name": "python3"
  },
  "language_info": {
   "codemirror_mode": {
    "name": "ipython",
    "version": 3
   },
   "file_extension": ".py",
   "mimetype": "text/x-python",
   "name": "python",
   "nbconvert_exporter": "python",
   "pygments_lexer": "ipython3",
   "version": "3.8.18"
  }
 },
 "nbformat": 4,
 "nbformat_minor": 2
}
